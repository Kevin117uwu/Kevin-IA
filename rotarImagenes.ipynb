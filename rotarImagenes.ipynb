{
 "cells": [
  {
   "cell_type": "code",
   "execution_count": null,
   "id": "a7250fd2-d232-47e3-bdba-1ec1d7006752",
   "metadata": {},
   "outputs": [],
   "source": [
    "import cv2 as cv\n",
    "import os\n"
   ]
  },
  {
   "cell_type": "code",
   "execution_count": null,
   "id": "1463feea-ce44-4e61-80b9-ec16c53795ac",
   "metadata": {},
   "outputs": [],
   "source": [
    "def rota(img,i):\n",
    "    h,w = img.shape[:2]\n",
    "    mw = cv.getRotationMatrix2D((h//2, w//2),45,-1)\n",
    "    img2 = cv.warpAffine(img,mw,(h,w))\n",
    "    cv.imwrite('C:\\\\Users\\\\kevin\\\\p\\\\wally\\\\wallyp'+str(i)+'.jpg', img2)\n",
    "    "
   ]
  },
  {
   "cell_type": "code",
   "execution_count": null,
   "id": "f456a998-825d-468e-aa20-32bdb6a56d91",
   "metadata": {},
   "outputs": [],
   "source": [
    "i = 0\n",
    "imgPaths = \"C:\\\\Users\\\\kevin\\\\images\"\n",
    "nomFiles = os.listdir(imgPaths)\n",
    "for nomFile in nomFiles:\n",
    "    i = i + 1\n",
    "    imgPath = imgPaths+\"\\\\\"+nomFile\n",
    "    img = cv.imread(imgPath)\n",
    "    rota(img, i)"
   ]
  },
  {
   "cell_type": "code",
   "execution_count": null,
   "id": "92b57b9d-7c68-4a52-b27a-6ea1d2681b17",
   "metadata": {},
   "outputs": [],
   "source": []
  },
  {
   "cell_type": "code",
   "execution_count": null,
   "id": "e886fed3-49ee-47a6-8b94-e511312a6151",
   "metadata": {
    "slideshow": {
     "slide_type": ""
    },
    "tags": []
   },
   "outputs": [],
   "source": [
    "#Rotar\n",
    "\n",
    "import cv2 as cv\n",
    "import numpy as np \n",
    "import os\n",
    "\n",
    "i=50\n",
    "j=0\n",
    "img = cv.imread('C:\\\\Users\\\\kevin\\\\Desktop\\\\imagenes1\\\\imgN3.jpg')\n",
    "h,w = img.shape[:2]\n",
    "\n",
    "while True:\n",
    "\n",
    "    mw = cv.getRotationMatrix2D((h//2, w//2),j,-1)\n",
    "    img2 = cv.warpAffine(img,mw,(h,w))\n",
    "    cv.imwrite('C:\\\\Users\\\\kevin\\\\Desktop\\\\imagenesR\\\\imagenN'+str(i)+'.jpg', img2)\n",
    "    i=i+1\n",
    "    j=j+1\n",
    "    \n",
    "    if j==50:\n",
    "        break\n",
    "cv.imshow('imagen1', img)\n",
    "cv.imshow('imagen2', img2)\n",
    "\n",
    "cv.waitKey(0)\n",
    "cv.destroyAllWindows()"
   ]
  },
  {
   "cell_type": "code",
   "execution_count": 2,
   "id": "ed8512ee-3190-4da7-964e-b717fd7d6914",
   "metadata": {},
   "outputs": [
    {
     "name": "stdout",
     "output_type": "stream",
     "text": [
      "Proceso completado. Imágenes redimensionadas y guardadas en la carpeta \"n\".\n"
     ]
    }
   ],
   "source": [
    "\n",
    "\n",
    "import cv2 as cv\n",
    "import os\n",
    "\n",
    "folder_path = 'C:\\\\Users\\\\kevin\\\\pruebas'\n",
    "\n",
    "output_folder = 'C:\\\\Users\\\\kevin\\\\pruebas'\n",
    "\n",
    "image_files = os.listdir(folder_path)\n",
    "\n",
    "count = 59\n",
    "\n",
    "for filename in image_files:\n",
    "    # Leer la imagen\n",
    "    img = cv.imread(os.path.join(folder_path, filename), 1)\n",
    "    \n",
    "    img_resized = cv.resize(img, (100, 100), interpolation=cv.INTER_AREA)\n",
    "       \n",
    "    output_path = os.path.join(output_folder, f'wallyp{count}.jpg')\n",
    "    cv.imwrite(output_path, img_resized)\n",
    "\n",
    "    count += 1\n",
    "\n",
    "print('Proceso completado. Imágenes redimensionadas y guardadas en la carpeta \"n\".')\n",
    "\n",
    "\n"
   ]
  },
  {
   "cell_type": "code",
   "execution_count": null,
   "id": "31ca0134-0c9d-4cd9-b434-3256de21caff",
   "metadata": {},
   "outputs": [],
   "source": []
  },
  {
   "cell_type": "code",
   "execution_count": null,
   "id": "8e4882af-5ef2-41da-aed1-db6e3fc46653",
   "metadata": {},
   "outputs": [],
   "source": [
    "#lectura y detección\n",
    "\n",
    "\n",
    "import cv2 as cv\n",
    "import numpy as np\n",
    "\n",
    "import os\n",
    "\n",
    "cap = cv.VideoCapture(0)\n",
    "haar = cv.CascadeClassifier('cascade.xml')\n",
    "font = cv.FONT_HERSHEY_SIMPLEX\n",
    "\n",
    "while True:\n",
    "\n",
    "    ret,frame = cap.read()\n",
    "    gray = cv.cvtColor(frame, cv.COLOR_BGR2GRAY)\n",
    "    prueba = haar.detectMultiScale(gray,1.3,3,2)\n",
    "\n",
    "for (x,y,w,h) in prueba:\n",
    "    pt1=(x,y)\n",
    "    pt2=(x+w,y+h)\n",
    "\n",
    "cv.rectangle (frame, (x,y), (x+w,y+h), (255,0,0),2)\n",
    "cv.rectangle (frame, (x,y), (x+100,y+40), (255,0,0),-1)\n",
    "cv.putText (frame, 'Wally', (x+10,y+30),font (255,255,255),2)\n",
    "\n",
    "cv.imshow('Deteccion',frame)\n",
    "if cv.waitKey(1) & 0xFF == ord('q'):\n",
    "    break\n",
    "\n",
    "cap.release()\n",
    "cv.destroyAllWindows()\n",
    "\n"
   ]
  },
  {
   "cell_type": "code",
   "execution_count": null,
   "id": "1766430f-7e2f-40ae-9a4f-5cd953d47fd7",
   "metadata": {},
   "outputs": [],
   "source": [
    "\n"
   ]
  },
  {
   "cell_type": "code",
   "execution_count": null,
   "id": "f53664b3-0062-476c-8dbc-e1edeb7172df",
   "metadata": {},
   "outputs": [],
   "source": []
  }
 ],
 "metadata": {
  "kernelspec": {
   "display_name": "Python 3 (ipykernel)",
   "language": "python",
   "name": "python3"
  },
  "language_info": {
   "codemirror_mode": {
    "name": "ipython",
    "version": 3
   },
   "file_extension": ".py",
   "mimetype": "text/x-python",
   "name": "python",
   "nbconvert_exporter": "python",
   "pygments_lexer": "ipython3",
   "version": "3.11.7"
  }
 },
 "nbformat": 4,
 "nbformat_minor": 5
}
