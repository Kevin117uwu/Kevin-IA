{
 "cells": [
  {
   "cell_type": "code",
   "execution_count": null,
   "id": "9e48345a-8c4a-442c-969a-ce36f23a8d3a",
   "metadata": {},
   "outputs": [],
   "source": [
    "pwd"
   ]
  },
  {
   "cell_type": "code",
   "execution_count": 1,
   "id": "0725e0a3-8026-4257-8dfe-d24a0ed6e9be",
   "metadata": {},
   "outputs": [],
   "source": [
    "import numpy as np\n",
    "import cv2 as cv\n",
    "import math\n",
    "rostro = cv.CascadeClassifier('haarcascade_frontalface_alt2.xml')"
   ]
  },
  {
   "cell_type": "code",
   "execution_count": null,
   "id": "84c58c94-d09d-4768-9f85-4e970f056ddc",
   "metadata": {},
   "outputs": [],
   "source": [
    "cap = cv.VideoCapture(0)\n",
    "i=2724\n",
    "while True:\n",
    "    ret, frame = cap.read()\n",
    "    gray = cv.cvtColor (frame, cv.COLOR_BGR2GRAY)\n",
    "    rostros = rostro.detectMultiScale(gray, 1.3, 5)\n",
    "    for(x, y, w, h) in rostros:\n",
    "        #frame = cv.rectangle(frame, (x,y), (x+w, y+h), (0, 0, 0), 2)\n",
    "        frame2 = frame[y-10:y+h+10, x-10:x+w+10]\n",
    "        cv.imshow('rostros2', frame2)\n",
    "        frame2 = cv.resize(frame2, (100,100), interpolation = cv.INTER_AREA)\n",
    "        cv.imwrite('C:\\\\Users\\\\kevin\\\\emociones\\\\feliz\\\\feliz'+str(i)+ '.png', frame2)\n",
    "        \n",
    "    cv. imshow('rostros', frame)\n",
    "    i=i+1\n",
    "    k = cv.waitKey(1)\n",
    "    if k == 27:\n",
    "        break\n",
    "cap.release()\n",
    "cv.destroyAllWindows()"
   ]
  },
  {
   "cell_type": "code",
   "execution_count": 2,
   "id": "2385c375-7063-47eb-805c-b06b99513d95",
   "metadata": {},
   "outputs": [
    {
     "name": "stdout",
     "output_type": "stream",
     "text": [
      "['feliz', 'sorprendido', 'triste']\n",
      "C:\\Users\\kevin\\emociones\\feliz\n",
      "C:\\Users\\kevin\\emociones\\sorprendido\n",
      "C:\\Users\\kevin\\emociones\\triste\n",
      "1433\n"
     ]
    }
   ],
   "source": [
    "import cv2 as cv \n",
    "import numpy as np \n",
    "import os\n",
    "\n",
    "dataSet = 'C:\\\\Users\\\\kevin\\\\emociones'\n",
    "faces= os.listdir(dataSet)\n",
    "print(faces)\n",
    "\n",
    "labels = []\n",
    "facesData = []\n",
    "label = 0 \n",
    "for face in faces:\n",
    "    facePath = dataSet+'\\\\'+face\n",
    "    print(facePath)\n",
    "    for faceName in os.listdir(facePath):\n",
    "        labels.append(label)\n",
    "        facesData.append(cv.imread(facePath+'\\\\'+faceName,0))\n",
    "    label = label + 1\n",
    "print(np.count_nonzero(np.array(labels)==0)) \n",
    "\n",
    "faceRecognizer = cv.face.LBPHFaceRecognizer_create()\n",
    "faceRecognizer.train(facesData, np.array(labels))\n",
    "faceRecognizer.write('LBPH.xml')"
   ]
  },
  {
   "cell_type": "code",
   "execution_count": 3,
   "id": "d41e8fda-b54d-48af-b24e-5082cf1fb5d9",
   "metadata": {},
   "outputs": [],
   "source": [
    "import cv2 as cv\n",
    "import os \n",
    "\n",
    "faceRecognizer = cv.face.LBPHFaceRecognizer_create()\n",
    "faceRecognizer.read('LBPHface.xml')\n",
    "\n",
    "cap = cv.VideoCapture(0)\n",
    "rostro = cv.CascadeClassifier('haarcascade_frontalface_alt2.xml')\n",
    "while True:\n",
    "    ret, frame = cap.read()\n",
    "    if ret == False: break\n",
    "    gray = cv.cvtColor(frame, cv.COLOR_BGR2GRAY)\n",
    "    cpGray = gray.copy()\n",
    "    rostros = rostro.detectMultiScale(gray, 1.3, 3)\n",
    "    for(x, y, w, h) in rostros:\n",
    "        frame2 = cpGray[y:y+h, x:x+w]\n",
    "        frame2 = cv.resize(frame2,  (100,100), interpolation=cv.INTER_CUBIC)\n",
    "        result = faceRecognizer.predict(frame2)\n",
    "        #cv.putText(frame, '{}'.format(result), (x,y-20), 1,3.3, (0,0,0), 1, cv.LINE_AA)\n",
    "        if result[1] < 500:\n",
    "            cv.putText(frame,'{}'.format(faces[result[0]]),(x,y-25),2,1.1,(0,255,0),1,cv.LINE_AA)\n",
    "            cv.rectangle(frame, (x,y),(x+w,y+h),(0,255,0),2)\n",
    "        else:\n",
    "            cv.putText(frame,'Desconocido',(x,y-20),2,0.8,(0,0,255),1,cv.LINE_AA)\n",
    "            cv.rectangle(frame, (x,y),(x+w,y+h),(0,0,255),2)\n",
    "    cv.imshow('frame', frame)\n",
    "    k = cv.waitKey(5)\n",
    "    if k == 27:\n",
    "        break\n",
    "cap.release()\n",
    "cv.destroyAllWindows()"
   ]
  },
  {
   "cell_type": "code",
   "execution_count": 1,
   "id": "3ae031d6-cb35-4250-a3ca-66b2d76147af",
   "metadata": {},
   "outputs": [
    {
     "data": {
      "text/plain": [
       "'C:\\\\Users\\\\kevin'"
      ]
     },
     "execution_count": 1,
     "metadata": {},
     "output_type": "execute_result"
    }
   ],
   "source": [
    "pwd"
   ]
  },
  {
   "cell_type": "code",
   "execution_count": null,
   "id": "f4259573-bcbe-4693-a20e-a2039679f816",
   "metadata": {},
   "outputs": [],
   "source": []
  }
 ],
 "metadata": {
  "kernelspec": {
   "display_name": "Python 3 (ipykernel)",
   "language": "python",
   "name": "python3"
  },
  "language_info": {
   "codemirror_mode": {
    "name": "ipython",
    "version": 3
   },
   "file_extension": ".py",
   "mimetype": "text/x-python",
   "name": "python",
   "nbconvert_exporter": "python",
   "pygments_lexer": "ipython3",
   "version": "3.11.7"
  }
 },
 "nbformat": 4,
 "nbformat_minor": 5
}
